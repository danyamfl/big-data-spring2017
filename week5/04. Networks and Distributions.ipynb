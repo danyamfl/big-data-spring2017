{
 "cells": [
  {
   "cell_type": "markdown",
   "metadata": {
    "deletable": true,
    "editable": true
   },
   "source": [
    "# Big Data And Society - Lab 4\n",
    "\n",
    "### Networks and Data Aggregation\n",
    "\n",
    "\n"
   ]
  },
  {
   "cell_type": "markdown",
   "metadata": {
    "deletable": true,
    "editable": true
   },
   "source": [
    "### 0. Networks Overview\n",
    "Real-world data can be represented through graphs. At the same time, analytical models have been developed to simulate and compare models with real-world networks, allowing us to abstract, simulate and identify specific conditions of the network in a controlled model. The understanding of the components and properties of the representation provides a useful roadmap for their use in developing their appropriate spatial representation.\n",
    "\n",
    "In mathematics, **graphs** are used to represent **networks**. A graph represents entities that can be connected with each other through pair-like links or **edges**. The objects represented in a graph are called **nodes**, and they represent the fundamental unit of graphs . **Nodes** can have a number of properties and are indivisible. The relationships between the nodes of a graph are specified by **edges**, or connections among nodes. In more complex graph representations, edges or relationships can be **directed** or **undirected**, where the relationship is symmetric or asymmetric. Similarly edges can be **weighted** according to discrete relationships.\n",
    "\n",
    "![IPython](images/Graph_theory_tree.jpg)\n",
    "\n",
    "Here, the nodes are represented by numbered circles, and the edges are the undirected lines connecting them.\n",
    "\n",
    "\n",
    "\n",
    "### Network Properties\n",
    "The organization of a network can be described based on its topology, or arrangement of nodes and edges. At the same time, a number of network properties that analyze the topological conditions of the network can be described. \n",
    "\n",
    "The network **Degree** is the number of edges that are incident on a node. Nodes with a higher degree are more connected to other nodes, and can become network hubs. Network **Paths** are a sequence of nodes in which each node is adjacent to the next one. The shortest path between two nodes is defined as the number of edges along the shortest path connecting them. Finally, the **Clustering Coefficient** is a description of the connectedness of the neighbors of a node.\n",
    "\n",
    "### Relationships Among Networks\n",
    "When describing networks through graph relationships it is possible to construct models of isolated networks, or models that can represent relationships among different sets or spatial layers. \n",
    "\n",
    "**Mono-partite Networks** are the simplest network representation. All the nodes of mono-partite networks are part of the same set of information. **Road networks** can be an example of mono-partite networks, where each node is road starting point or intersection with other road. \n",
    "\n",
    "**Mutli-partite Networks** are networks whose nodes can be divided into multiple independent sets or sublayers of information. In this representation, nodes from different networks can be  related to each other, constructing heterogeneous relationships among its nodes. For example, if we represent a social network we could map both the relationships between users, and the social posts each user has, combining two distinct sets of nodes. \n"
   ]
  },
  {
   "cell_type": "markdown",
   "metadata": {
    "deletable": true,
    "editable": true
   },
   "source": [
    "### 1. NetworkX\n",
    "[**NetworkX**](https://networkx.github.io/) is a Python library for representing graphs and networks. It contains `classes` for creating `graphs` and `digraphs`, and functions to calculate network properties such as `adjacency, degree, diameter, radius, center, betweenness`, etc. Additionally, it contains functionality for drawing **2D** and **3D** networks.\n",
    "\n",
    "First we need to import the libraries, and some of their components. **NetworkX**, Networkx contains many algorithms for common network computations. NetworkX wraps the mathematical components of a graph into a `dictionary` like syntax, exposing **nodes** and **edges** as `dictionaries`. Dictionaries allow the inclusion of metadata along with the network topology within the network structure. To install **NetworkX** on a terminal or the command line, run the following command:\n",
    "```\n",
    "pip install networkx\n",
    "```\n",
    "\n",
    "We will also be using [**Seaborn**](http://stanford.edu/~mwaskom/software/seaborn/api.html). Seaborn is a Python visualization library based on matplotlib. It provides a high-level interface for drawing attractive statistical graphics. It operates in a similar manner to **Matplotlib**, but creates more graphically appealing plots. \n",
    "\n",
    "For it to work properly, we also need to install ipywidgets. To install both, run the following commands:\n",
    "```\n",
    "pip install ipywidgets\n",
    "pip install seaborn\n",
    "```"
   ]
  },
  {
   "cell_type": "code",
<<<<<<< HEAD
   "execution_count": 1,
=======
   "execution_count": null,
>>>>>>> 3673c51364a1e4d269193210905d688b7f98acc6
   "metadata": {
    "collapsed": false,
    "deletable": true,
    "editable": true
   },
   "outputs": [],
   "source": [
    "# Import some libraries\n",
    "import networkx as nx\n",
    "import matplotlib.pyplot as plt\n",
    "import numpy as np\n",
    "import pandas as pd\n",
    "\n",
    "# Import Seaborn\n",
    "import seaborn as sns\n",
    "\n",
    "\n",
    "# This allows plots to appear on the IPython notebook.\n",
    "%matplotlib inline "
   ]
  },
  {
   "cell_type": "markdown",
   "metadata": {
    "deletable": true,
    "editable": true
   },
   "source": [
    "The basic element of networkx is a network x [**Graph**](http://networkx.readthedocs.org/en/networkx-1.11/reference/classes.graph.html#networkx.Graph)"
   ]
  },
  {
   "cell_type": "code",
<<<<<<< HEAD
   "execution_count": 2,
=======
   "execution_count": null,
>>>>>>> 3673c51364a1e4d269193210905d688b7f98acc6
   "metadata": {
    "collapsed": true,
    "deletable": true,
    "editable": true
   },
   "outputs": [],
   "source": [
    "# create an empty graph called G\n",
    "G = nx.Graph()"
   ]
  },
  {
   "cell_type": "markdown",
   "metadata": {
    "deletable": true,
    "editable": true
   },
   "source": [
    "### Add Nodes\n",
    "\n",
    "Next, we want to add some nodes to our graph. In this example, we are going to create a chart of DUSP faculty and their connections."
   ]
  },
  {
   "cell_type": "code",
<<<<<<< HEAD
   "execution_count": 3,
=======
   "execution_count": null,
>>>>>>> 3673c51364a1e4d269193210905d688b7f98acc6
   "metadata": {
    "collapsed": false,
    "deletable": true,
    "editable": true
   },
<<<<<<< HEAD
   "outputs": [
    {
     "name": "stdout",
     "output_type": "stream",
     "text": [
      "Sarah's Node: {'last_name': 'Williams'}\n",
      "Sarah's Lastname: Williams\n"
     ]
    }
   ],
=======
   "outputs": [],
>>>>>>> 3673c51364a1e4d269193210905d688b7f98acc6
   "source": [
    "# create lists of DUSP faculty names\n",
    "names = ['Sarah','Jinhua','Mariana','Eran','Alan','Joe','Dennis','David','Eric','Carlo','James','Christopher']\n",
    "last_names = ['Williams','Zhao','Arcaya','Ben-Joseph','Berger','Ferreira','Frenchman','Hsu','Klopfer','Ratti','Wescoat','Zegras']\n",
    "\n",
    "# add nodes to the graph representing people\n",
    "# the first argument in add_node is the name of the node (n) and you can add attributes\n",
    "for i in range(len(names)):\n",
    "    G.add_node(names[i], last_name=last_names[i])\n",
    "\n",
    "# Accessing nodes and node data.\n",
    "sarah_node = G.node['Sarah']\n",
    "print(\"Sarah's Node: \" + str(sarah_node))\n",
    "print(\"Sarah's Lastname: \"+ sarah_node['last_name'])"
   ]
  },
  {
   "cell_type": "markdown",
   "metadata": {
    "deletable": true,
    "editable": true
   },
   "source": [
    "Take a look at Sarahs node:"
   ]
  },
  {
   "cell_type": "code",
<<<<<<< HEAD
   "execution_count": 4,
=======
   "execution_count": null,
>>>>>>> 3673c51364a1e4d269193210905d688b7f98acc6
   "metadata": {
    "collapsed": false,
    "deletable": true,
    "editable": true
   },
<<<<<<< HEAD
   "outputs": [
    {
     "data": {
      "text/plain": [
       "{'last_name': 'Williams'}"
      ]
     },
     "execution_count": 4,
     "metadata": {},
     "output_type": "execute_result"
    }
   ],
=======
   "outputs": [],
>>>>>>> 3673c51364a1e4d269193210905d688b7f98acc6
   "source": [
    "sarah_node"
   ]
  },
  {
   "cell_type": "markdown",
   "metadata": {
    "deletable": true,
    "editable": true
   },
   "source": [
    "We can add weights to nodes as well by adding another attribute to each note. This can perhaps be used to size the points in the nodes. Say we have a list of all of the weights for each faculty. We can iterate and add those to our nodes. In our iteration, we'll use the [Python zip](https://docs.python.org/3/library/functions.html#zip) function."
   ]
  },
  {
   "cell_type": "code",
<<<<<<< HEAD
   "execution_count": 5,
=======
   "execution_count": null,
>>>>>>> 3673c51364a1e4d269193210905d688b7f98acc6
   "metadata": {
    "collapsed": false,
    "deletable": true,
    "editable": true
   },
   "outputs": [],
   "source": [
    "weights = [350,100,150,900,200,700,550,200,150,450,300,100]\n",
    "\n",
    "for i,j in zip(names,weights):\n",
    "    G.node[i]['weight'] = j"
   ]
  },
  {
   "cell_type": "markdown",
   "metadata": {},
   "source": [
    "Taking a look, we now see we've got a weight of 350 applied to the node. It is based on the location in the array."
   ]
  },
  {
   "cell_type": "code",
<<<<<<< HEAD
   "execution_count": 6,
=======
   "execution_count": null,
>>>>>>> 3673c51364a1e4d269193210905d688b7f98acc6
   "metadata": {
    "collapsed": false,
    "deletable": true,
    "editable": true
   },
<<<<<<< HEAD
   "outputs": [
    {
     "data": {
      "text/plain": [
       "{'last_name': 'Williams', 'weight': 350}"
      ]
     },
     "execution_count": 6,
     "metadata": {},
     "output_type": "execute_result"
    }
   ],
=======
   "outputs": [],
>>>>>>> 3673c51364a1e4d269193210905d688b7f98acc6
   "source": [
    "sarah_node"
   ]
  },
  {
   "cell_type": "markdown",
   "metadata": {
    "deletable": true,
    "editable": true
   },
   "source": [
    "List our nodes:"
   ]
  },
  {
   "cell_type": "code",
<<<<<<< HEAD
   "execution_count": 7,
=======
   "execution_count": null,
>>>>>>> 3673c51364a1e4d269193210905d688b7f98acc6
   "metadata": {
    "collapsed": false,
    "deletable": true,
    "editable": true
   },
<<<<<<< HEAD
   "outputs": [
    {
     "name": "stdout",
     "output_type": "stream",
     "text": [
      "('Sarah', {'last_name': 'Williams', 'weight': 350})\n",
      "('Jinhua', {'last_name': 'Zhao', 'weight': 100})\n",
      "('Mariana', {'last_name': 'Arcaya', 'weight': 150})\n",
      "('Eran', {'last_name': 'Ben-Joseph', 'weight': 900})\n",
      "('Alan', {'last_name': 'Berger', 'weight': 200})\n",
      "('Joe', {'last_name': 'Ferreira', 'weight': 700})\n",
      "('Dennis', {'last_name': 'Frenchman', 'weight': 550})\n",
      "('David', {'last_name': 'Hsu', 'weight': 200})\n",
      "('Eric', {'last_name': 'Klopfer', 'weight': 150})\n",
      "('Carlo', {'last_name': 'Ratti', 'weight': 450})\n",
      "('James', {'last_name': 'Wescoat', 'weight': 300})\n",
      "('Christopher', {'last_name': 'Zegras', 'weight': 100})\n"
     ]
    }
   ],
=======
   "outputs": [],
>>>>>>> 3673c51364a1e4d269193210905d688b7f98acc6
   "source": [
    "# View nodes\n",
    "for n in G.nodes_iter(data=True):\n",
    "    print(n)"
   ]
  },
  {
   "cell_type": "markdown",
   "metadata": {
    "deletable": true,
    "editable": true
   },
   "source": [
    "Adding edges among the nodes is very simple. It is also possible to create arbitrary properties on every node. We can even create a network using only edges, without even specifying the different nodes. "
   ]
  },
  {
   "cell_type": "code",
<<<<<<< HEAD
   "execution_count": 8,
=======
   "execution_count": null,
>>>>>>> 3673c51364a1e4d269193210905d688b7f98acc6
   "metadata": {
    "collapsed": false,
    "deletable": true,
    "editable": true
   },
<<<<<<< HEAD
   "outputs": [
    {
     "name": "stdout",
     "output_type": "stream",
     "text": [
      "Sarah-Alan edge: {'weight': 7}\n"
     ]
    }
   ],
=======
   "outputs": [],
>>>>>>> 3673c51364a1e4d269193210905d688b7f98acc6
   "source": [
    "# note that there is a lot of freedom in providing edge metadata.\n",
    "# also, the relationships strengths are completely random.\n",
    "G.add_edge('Sarah','Jinhua',weight=1)\n",
    "G.add_edge('Sarah','Mariana',weight=2)\n",
    "G.add_edge('Sarah','Eran',weight=5)\n",
    "G.add_edge('Sarah','Alan',weight=7)\n",
    "G.add_edge('Sarah','Joe', weight=9)\n",
    "G.add_edge('Sarah','Dennis',weight=5)\n",
    "G.add_edge('Sarah','David',weight=10)\n",
    "G.add_edge('Sarah','Eric',weight=3)\n",
    "G.add_edge('Sarah','Carlo', weight=8)\n",
    "G.add_edge('Sarah','James',weight=5)\n",
    "\n",
    "G.add_edge('Carlo','Jinhua',weight=2)\n",
    "G.add_edge('Carlo','Eran',weight=10)\n",
    "G.add_edge('Carlo','Joe', weight=6)\n",
    "G.add_edge('Carlo','Dennis',weight=5)\n",
    "G.add_edge('Carlo','David',weight=8)\n",
    "G.add_edge('Carlo','Eric',weight=3)\n",
    "G.add_edge('Carlo','Sarah', weight=4)\n",
    "G.add_edge('Carlo','James',weight=9)\n",
    "G.add_edge('Carlo','Christopher',weight=3)\n",
    "\n",
    "G.add_edge('Joe','Jinhua',weight=2)\n",
    "G.add_edge('Joe','Mariana',weight=4)\n",
    "G.add_edge('Joe','Eran',weight=2)\n",
    "G.add_edge('Joe','Dennis',weight=5)\n",
    "G.add_edge('Joe','David',weight=3)\n",
    "G.add_edge('Joe','Eric',weight=1)\n",
    "G.add_edge('Joe','Sarah', weight=5)\n",
    "G.add_edge('Joe','Carlo',weight=2)\n",
    "G.add_edge('Joe','Christopher',weight=9)\n",
    "\n",
    "print(\"Sarah-Alan edge: \"+str(G['Sarah']['Alan']))"
   ]
  },
  {
   "cell_type": "code",
<<<<<<< HEAD
   "execution_count": 9,
=======
   "execution_count": null,
>>>>>>> 3673c51364a1e4d269193210905d688b7f98acc6
   "metadata": {
    "collapsed": false,
    "deletable": true,
    "editable": true
   },
<<<<<<< HEAD
   "outputs": [
    {
     "data": {
      "text/plain": [
       "25"
      ]
     },
     "execution_count": 9,
     "metadata": {},
     "output_type": "execute_result"
    }
   ],
=======
   "outputs": [],
>>>>>>> 3673c51364a1e4d269193210905d688b7f98acc6
   "source": [
    "# View the number of edges\n",
    "G.number_of_edges()"
   ]
  },
  {
   "cell_type": "code",
<<<<<<< HEAD
   "execution_count": 10,
=======
   "execution_count": null,
>>>>>>> 3673c51364a1e4d269193210905d688b7f98acc6
   "metadata": {
    "collapsed": false,
    "deletable": true,
    "editable": true
   },
<<<<<<< HEAD
   "outputs": [
    {
     "data": {
      "text/plain": [
       "[('Sarah', 'Jinhua'),\n",
       " ('Sarah', 'Mariana'),\n",
       " ('Sarah', 'Eran'),\n",
       " ('Sarah', 'Alan'),\n",
       " ('Sarah', 'Joe'),\n",
       " ('Sarah', 'Dennis'),\n",
       " ('Sarah', 'David'),\n",
       " ('Sarah', 'Eric'),\n",
       " ('Sarah', 'Carlo'),\n",
       " ('Sarah', 'James'),\n",
       " ('Jinhua', 'Carlo'),\n",
       " ('Jinhua', 'Joe'),\n",
       " ('Mariana', 'Joe'),\n",
       " ('Eran', 'Carlo'),\n",
       " ('Eran', 'Joe'),\n",
       " ('Joe', 'Carlo'),\n",
       " ('Joe', 'Dennis'),\n",
       " ('Joe', 'David'),\n",
       " ('Joe', 'Eric'),\n",
       " ('Joe', 'Christopher'),\n",
       " ('Dennis', 'Carlo'),\n",
       " ('David', 'Carlo'),\n",
       " ('Eric', 'Carlo'),\n",
       " ('Carlo', 'James'),\n",
       " ('Carlo', 'Christopher')]"
      ]
     },
     "execution_count": 10,
     "metadata": {},
     "output_type": "execute_result"
    }
   ],
=======
   "outputs": [],
>>>>>>> 3673c51364a1e4d269193210905d688b7f98acc6
   "source": [
    "# Retrieve the edges as a list\n",
    "G.edges()"
   ]
  },
  {
   "cell_type": "code",
<<<<<<< HEAD
   "execution_count": 11,
=======
   "execution_count": null,
>>>>>>> 3673c51364a1e4d269193210905d688b7f98acc6
   "metadata": {
    "collapsed": false,
    "deletable": true,
    "editable": true
   },
<<<<<<< HEAD
   "outputs": [
    {
     "data": {
      "text/plain": [
       "['Carlo', 'Joe']"
      ]
     },
     "execution_count": 11,
     "metadata": {},
     "output_type": "execute_result"
    }
   ],
=======
   "outputs": [],
>>>>>>> 3673c51364a1e4d269193210905d688b7f98acc6
   "source": [
    "# View connections\n",
    "G.neighbors('Christopher')"
   ]
  },
  {
   "cell_type": "markdown",
   "metadata": {
    "deletable": true,
    "editable": true
   },
   "source": [
    "Of course, you probably won't add nodes and edges manually, but you can envision here how to load them."
   ]
  },
  {
   "cell_type": "code",
   "execution_count": null,
   "metadata": {
    "collapsed": false,
    "deletable": true,
    "editable": true
   },
   "outputs": [],
   "source": [
    "# Add more faculty (nodes)\n",
    "additional_names = ['Justin','Phil']\n",
    "additional_last_names = ['Steil','Thompson']\n",
    "additional_weights = [40,50]\n",
    "\n",
    "for i in range(len(additional_names)):\n",
    "    G.add_node(additional_names[i], last_name=additional_last_names[i], weight=additional_weights[i])"
   ]
  },
  {
   "cell_type": "code",
<<<<<<< HEAD
   "execution_count": 12,
=======
   "execution_count": null,
>>>>>>> 3673c51364a1e4d269193210905d688b7f98acc6
   "metadata": {
    "collapsed": false,
    "deletable": true,
    "editable": true
   },
<<<<<<< HEAD
   "outputs": [
    {
     "name": "stdout",
     "output_type": "stream",
     "text": [
      "('Sarah', {'last_name': 'Williams', 'weight': 350})\n",
      "('Jinhua', {'last_name': 'Zhao', 'weight': 100})\n",
      "('Mariana', {'last_name': 'Arcaya', 'weight': 150})\n",
      "('Eran', {'last_name': 'Ben-Joseph', 'weight': 900})\n",
      "('Alan', {'last_name': 'Berger', 'weight': 200})\n",
      "('Joe', {'last_name': 'Ferreira', 'weight': 700})\n",
      "('Dennis', {'last_name': 'Frenchman', 'weight': 550})\n",
      "('David', {'last_name': 'Hsu', 'weight': 200})\n",
      "('Eric', {'last_name': 'Klopfer', 'weight': 150})\n",
      "('Carlo', {'last_name': 'Ratti', 'weight': 450})\n",
      "('James', {'last_name': 'Wescoat', 'weight': 300})\n",
      "('Christopher', {'last_name': 'Zegras', 'weight': 100})\n"
     ]
    }
   ],
=======
   "outputs": [],
>>>>>>> 3673c51364a1e4d269193210905d688b7f98acc6
   "source": [
    "# View nodes\n",
    "for n in G.nodes_iter(data=True):\n",
    "    print(n)"
   ]
  },
  {
   "cell_type": "code",
   "execution_count": null,
   "metadata": {
    "collapsed": false,
    "deletable": true,
    "editable": true
   },
   "outputs": [],
   "source": [
    "# Add more edges\n",
    "more_faculty_relationships = [['Justin','Mariana',15],\n",
    "                            ['Joe','Phil',6],\n",
    "                            ['Joe','Justin',8],\n",
    "                            ['Phil','Christopher',5]]\n",
    "\n",
    "for i in more_faculty_relationships:\n",
    "    G.add_edge(i[0],i[1],weight=i[2])"
   ]
  },
  {
   "cell_type": "code",
<<<<<<< HEAD
   "execution_count": 13,
=======
   "execution_count": null,
>>>>>>> 3673c51364a1e4d269193210905d688b7f98acc6
   "metadata": {
    "collapsed": false,
    "deletable": true,
    "editable": true
   },
<<<<<<< HEAD
   "outputs": [
    {
     "name": "stdout",
     "output_type": "stream",
     "text": [
      "('Sarah', 'Jinhua', {'weight': 1})\n",
      "('Sarah', 'Mariana', {'weight': 2})\n",
      "('Sarah', 'Eran', {'weight': 5})\n",
      "('Sarah', 'Alan', {'weight': 7})\n",
      "('Sarah', 'Joe', {'weight': 5})\n",
      "('Sarah', 'Dennis', {'weight': 5})\n",
      "('Sarah', 'David', {'weight': 10})\n",
      "('Sarah', 'Eric', {'weight': 3})\n",
      "('Sarah', 'Carlo', {'weight': 4})\n",
      "('Sarah', 'James', {'weight': 5})\n",
      "('Jinhua', 'Carlo', {'weight': 2})\n",
      "('Jinhua', 'Joe', {'weight': 2})\n",
      "('Mariana', 'Joe', {'weight': 4})\n",
      "('Eran', 'Carlo', {'weight': 10})\n",
      "('Eran', 'Joe', {'weight': 2})\n",
      "('Joe', 'Carlo', {'weight': 2})\n",
      "('Joe', 'Dennis', {'weight': 5})\n",
      "('Joe', 'David', {'weight': 3})\n",
      "('Joe', 'Eric', {'weight': 1})\n",
      "('Joe', 'Christopher', {'weight': 9})\n",
      "('Dennis', 'Carlo', {'weight': 5})\n",
      "('David', 'Carlo', {'weight': 8})\n",
      "('Eric', 'Carlo', {'weight': 3})\n",
      "('Carlo', 'James', {'weight': 9})\n",
      "('Carlo', 'Christopher', {'weight': 3})\n"
     ]
    }
   ],
=======
   "outputs": [],
>>>>>>> 3673c51364a1e4d269193210905d688b7f98acc6
   "source": [
    "# View edges\n",
    "for n in G.edges_iter(data=True):\n",
    "    print(n)"
   ]
  },
  {
   "cell_type": "markdown",
   "metadata": {
    "deletable": true,
    "editable": true
   },
   "source": [
    "### Drawing the Graph"
   ]
  },
  {
   "cell_type": "markdown",
   "metadata": {
    "deletable": true,
    "editable": true
   },
   "source": [
    "The primary purpose of NetworkX is not actually plots, it is designed for network logic (you will probably want to use D3js once we get our networks made for visualization!), however it does use matplotlib's functions to create its plots. It has built a wrapper around matplotlib's api. We can still control some specifics of the plot, like the figure size, using matplotlib's functions.\n",
    "\n",
    "We will be working with networkx's [**draw API**](http://networkx.readthedocs.org/en/networkx-1.11/reference/generated/networkx.drawing.nx_pylab.draw.html#networkx.drawing.nx_pylab.draw). When drawing networks, we can provide the position of the nodes ourselves, or we can use some of the [**built-in layouts**](http://networkx.readthedocs.org/en/networkx-1.11/reference/drawing.html#module-networkx.drawing.layout)."
   ]
  },
  {
   "cell_type": "markdown",
   "metadata": {
    "deletable": true,
    "editable": true
   },
   "source": [
    "#### 1. Get Node Sizes and Edge Widths\n",
    "\n",
    "We need two arrays, one for edge widths, and one for node sizes. Let's set those up."
   ]
  },
  {
   "cell_type": "code",
<<<<<<< HEAD
   "execution_count": 14,
=======
   "execution_count": null,
>>>>>>> 3673c51364a1e4d269193210905d688b7f98acc6
   "metadata": {
    "collapsed": false,
    "deletable": true,
    "editable": true
   },
<<<<<<< HEAD
   "outputs": [
    {
     "data": {
      "text/plain": [
       "[350, 100, 150, 900, 200, 700, 550, 200, 150, 450, 300, 100]"
      ]
     },
     "execution_count": 14,
     "metadata": {},
     "output_type": "execute_result"
    }
   ],
=======
   "outputs": [],
>>>>>>> 3673c51364a1e4d269193210905d688b7f98acc6
   "source": [
    "# Get a list of weights\n",
    "weights=nx.get_node_attributes(G,'weight')\n",
    "weights_list=list(weights.values())\n",
    "weights_list"
   ]
  },
  {
   "cell_type": "code",
<<<<<<< HEAD
   "execution_count": 15,
=======
   "execution_count": null,
>>>>>>> 3673c51364a1e4d269193210905d688b7f98acc6
   "metadata": {
    "collapsed": false,
    "deletable": true,
    "editable": true
   },
<<<<<<< HEAD
   "outputs": [
    {
     "data": {
      "text/plain": [
       "[1, 2, 5, 7, 5, 5, 10, 3, 4, 5, 2, 2, 4, 10, 2, 2, 5, 3, 1, 9, 5, 8, 3, 9, 3]"
      ]
     },
     "execution_count": 15,
     "metadata": {},
     "output_type": "execute_result"
    }
   ],
=======
   "outputs": [],
>>>>>>> 3673c51364a1e4d269193210905d688b7f98acc6
   "source": [
    "# Get a list of edge widths for relationship strength\n",
    "width=nx.get_edge_attributes(G,'weight')\n",
    "width_list=list(width.values())\n",
    "width_list"
   ]
  },
  {
   "cell_type": "code",
<<<<<<< HEAD
   "execution_count": 21,
=======
   "execution_count": null,
>>>>>>> 3673c51364a1e4d269193210905d688b7f98acc6
   "metadata": {
    "collapsed": false,
    "deletable": true,
    "editable": true
   },
<<<<<<< HEAD
   "outputs": [
    {
     "data": {
      "image/png": "iVBORw0KGgoAAAANSUhEUgAAA24AAANNCAYAAADvaS3/AAAABHNCSVQICAgIfAhkiAAAAAlwSFlz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\ncC5N2vNf2wAAAABJRU5ErkJggg==\n",
      "text/plain": [
       "<matplotlib.figure.Figure at 0x11216a828>"
      ]
     },
     "metadata": {},
     "output_type": "display_data"
    }
   ],
   "source": [
    "plt.figure(figsize=(15,15));\n",
    "\n",
    "pos=nx.circular_layout(G) # positions for all nodes, try circular_layout, fruchterman_reingold_layout, or spectral_layout\n",
=======
   "outputs": [],
   "source": [
    "plt.figure(figsize=(15,10));\n",
    "\n",
    "pos=nx.spring_layout(G) # positions for all nodes, try circular_layout, fruchterman_reingold_layout, or spectral_layout\n",
>>>>>>> 3673c51364a1e4d269193210905d688b7f98acc6
    "\n",
    "# nodes\n",
    "nx.draw_networkx_nodes(G, pos, node_size=weights_list, node_color=\"#6a7787\")\n",
    "\n",
    "# edges\n",
    "nx.draw_networkx_edges(G, pos, width=width_list, edge_color='#bbac81')\n",
    "\n",
    "# labels\n",
    "nx.draw_networkx_labels(G, pos)\n",
    "\n",
    "plt.axis('off')\n",
    "plt.savefig(\"weighted_graph.png\") # save as png\n",
    "plt.show() # display"
   ]
  },
  {
   "cell_type": "markdown",
   "metadata": {
    "deletable": true,
    "editable": true
   },
   "source": [
    "Accessing different network properties is very simple. Additionaly, NetworkX implements a number of network analysis algorithms such as centrality. The **degree distribution** is a 'thumb-print' that allows us to understand the structure and dynamics of a networked system."
   ]
  },
  {
   "cell_type": "code",
<<<<<<< HEAD
   "execution_count": 22,
=======
   "execution_count": null,
>>>>>>> 3673c51364a1e4d269193210905d688b7f98acc6
   "metadata": {
    "collapsed": false,
    "deletable": true,
    "editable": true
   },
<<<<<<< HEAD
   "outputs": [
    {
     "name": "stdout",
     "output_type": "stream",
     "text": [
      "All degrees: {'Sarah': 10, 'Jinhua': 3, 'Mariana': 2, 'Eran': 3, 'Alan': 1, 'Joe': 9, 'Dennis': 3, 'David': 3, 'Eric': 3, 'Carlo': 9, 'James': 2, 'Christopher': 2}\n",
      "1\n",
      "Number of faculty one degree from Mariana: 2\n"
     ]
    }
   ],
=======
   "outputs": [],
>>>>>>> 3673c51364a1e4d269193210905d688b7f98acc6
   "source": [
    "degrees = nx.degree(G)\n",
    "print(\"All degrees: \"+str(degrees))\n",
    "print(degrees['Alan'])\n",
    "print(\"Number of faculty one degree from Mariana: \"+str(G.degree('Mariana')))\n",
    "D = list(degrees.values())"
   ]
  },
  {
   "cell_type": "markdown",
   "metadata": {
    "deletable": true,
    "editable": true
   },
   "source": [
    "**NetworkX** has a number of plotting functions built-in. Apart from drawing nodes and edges, a number of the objects returned by the network functions are `numpy.arrays`, `dicts` or `lists` that can be easily passed to a **Matplotlib** function to represent them. While we are still using matplotlib to create the plots, we can use seaborn (sns) to improve the graphic style of the plots. By setting the [**style**](http://stanford.edu/~mwaskom/software/seaborn/generated/seaborn.set_style.html) of the plot, we have a choice to use some of seaborn's available style's. "
   ]
  },
  {
   "cell_type": "code",
<<<<<<< HEAD
   "execution_count": 24,
=======
   "execution_count": null,
>>>>>>> 3673c51364a1e4d269193210905d688b7f98acc6
   "metadata": {
    "collapsed": false,
    "deletable": true,
    "editable": true
   },
<<<<<<< HEAD
   "outputs": [
    {
     "name": "stdout",
     "output_type": "stream",
     "text": [
      "[10, 3, 2, 3, 1, 9, 3, 3, 3, 9, 2, 2]\n"
     ]
    },
    {
     "data": {
      "image/png": "iVBORw0KGgoAAAANSUhEUgAAAXcAAAETCAYAAADNpUayAAAABHNCSVQICAgIfAhkiAAAAAlwSFlz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\nkQwx3ImIZOh/AcF4zA74/dhxAAAAAElFTkSuQmCC\n",
      "text/plain": [
       "<matplotlib.figure.Figure at 0x112975cf8>"
      ]
     },
     "metadata": {},
     "output_type": "display_data"
    }
   ],
=======
   "outputs": [],
>>>>>>> 3673c51364a1e4d269193210905d688b7f98acc6
   "source": [
    "sns.set_style(\"whitegrid\")\n",
    "plt.figure()\n",
    "print(D)\n",
    "\n",
    "# We will be plotting the Degrees, that we stored in variable D\n",
    "plt.hist(D,bins=[0,1,2,3,4,5,6,7,8,9,10,11,12], facecolor='green', alpha=0.75)\n",
    "plt.xlabel('Number of First Degree Connections')\n",
    "plt.ylabel('Number of Faculty')\n",
    "plt.title('DUSP Explorer Degree Distribution')\n",
<<<<<<< HEAD
    "\n",
=======
    "# Answer:\n",
    "# As n gets large, degree dist is a Poisson distribution.\n",
>>>>>>> 3673c51364a1e4d269193210905d688b7f98acc6
    "plt.show()"
   ]
  },
  {
   "cell_type": "code",
   "execution_count": null,
   "metadata": {
    "collapsed": true
   },
   "outputs": [],
   "source": []
  }
 ],
 "metadata": {
  "kernelspec": {
   "display_name": "Python 3",
   "language": "python",
   "name": "python3"
  },
  "language_info": {
   "codemirror_mode": {
    "name": "ipython",
    "version": 3
   },
   "file_extension": ".py",
   "mimetype": "text/x-python",
   "name": "python",
   "nbconvert_exporter": "python",
   "pygments_lexer": "ipython3",
   "version": "3.6.0"
  }
 },
 "nbformat": 4,
 "nbformat_minor": 0
}
